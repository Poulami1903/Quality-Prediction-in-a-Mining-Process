{
  "nbformat": 4,
  "nbformat_minor": 0,
  "metadata": {
    "colab": {
      "provenance": []
    },
    "kernelspec": {
      "name": "python3",
      "display_name": "Python 3"
    },
    "language_info": {
      "name": "python"
    }
  },
  "cells": [
    {
      "cell_type": "code",
      "execution_count": 3,
      "metadata": {
        "id": "IgPc04g2rc1w"
      },
      "outputs": [],
      "source": [
        "import pandas as pd\n",
        "import numpy as np\n",
        "from sklearn.model_selection import train_test_split\n",
        "from sklearn.preprocessing import StandardScaler\n",
        "from sklearn.ensemble import RandomForestRegressor\n",
        "from sklearn.metrics import mean_squared_error, accuracy_score, precision_score, recall_score, roc_auc_score, confusion_matrix, roc_curve\n",
        "import matplotlib.pyplot as plt\n",
        "\n",
        "# Load the dataset\n",
        "df = pd.read_csv('/content/MiningProcess_Flotation_Plant_Database.csv')\n",
        "\n",
        "# Convert date column to datetime\n",
        "df['date'] = pd.to_datetime(df['date'])\n",
        "\n",
        "# Set date as the index\n",
        "df.set_index('date', inplace=True)\n",
        "\n",
        "# Convert object columns to numeric\n",
        "df['% Iron Concentrate'] = pd.to_numeric(df['% Iron Concentrate'], errors='coerce')\n",
        "df['% Silica Concentrate'] = pd.to_numeric(df['% Silica Concentrate'], errors='coerce')\n",
        "\n",
        "# Fill missing values\n",
        "df.fillna(method='ffill', inplace=True)\n",
        "\n",
        "# Extract datetime features\n",
        "df['hour'] = df.index.hour\n",
        "df['day'] = df.index.day\n",
        "df['dayofweek'] = df.index.dayofweek\n",
        "df['month'] = df.index.month\n",
        "df['year'] = df.index.year\n",
        "\n",
        "# Create lag features\n",
        "for lag in range(1, 11):\n",
        "    df[f'% Silica Concentrate_lag_{lag}'] = df['% Silica Concentrate'].shift(lag)\n",
        "\n",
        "# Drop rows with NaN values after lag feature creation\n",
        "df.dropna(inplace=True)\n"
      ]
    },
    {
      "cell_type": "code",
      "source": [
        "# Define the feature columns and target column\n",
        "feature_cols = ['% Iron Feed', '% Silica Feed', 'Starch Flow', 'Amina Flow',\n",
        "                'Ore Pulp Flow', 'Ore Pulp pH', 'Ore Pulp Density',\n",
        "                'Flotation Column 01 Air Flow', 'Flotation Column 02 Air Flow',\n",
        "                'Flotation Column 03 Air Flow', 'Flotation Column 04 Air Flow',\n",
        "                'Flotation Column 05 Air Flow', 'Flotation Column 06 Air Flow',\n",
        "                'Flotation Column 07 Air Flow', 'Flotation Column 01 Level',\n",
        "                'Flotation Column 02 Level', 'Flotation Column 03 Level',\n",
        "                'Flotation Column 04 Level', 'Flotation Column 05 Level',\n",
        "                'Flotation Column 06 Level', 'Flotation Column 07 Level',\n",
        "                'hour', 'day', 'dayofweek', 'month', 'year'] + \\\n",
        "               [f'% Silica Concentrate_lag_{lag}' for lag in range(1, 11)]\n",
        "\n",
        "target_col = '% Silica Concentrate'\n",
        "\n",
        "# Split the data into train and test sets\n",
        "X = df[feature_cols]\n",
        "y = df[target_col]\n",
        "\n",
        "# Remove commas from the affected columns\n",
        "for col in df.columns:\n",
        "    if df[col].dtype == 'object':\n",
        "        if df[col].str.contains(',').any():\n",
        "            df[col] = df[col].str.replace(',', '')\n",
        "\n",
        "# Convert the affected columns to float\n",
        "for col in df.columns:\n",
        "    if df[col].dtype == 'object':\n",
        "        df[col] = pd.to_numeric(df[col], errors='coerce')\n",
        "\n",
        "X_train, X_test, y_train, y_test = train_test_split(X, y, test_size=0.2, random_state=42)\n",
        "\n",
        "# Standardize the features\n",
        "scaler = StandardScaler()\n",
        "X_train_scaled = scaler.fit_transform(X_train)\n",
        "X_test_scaled = scaler.transform(X_test)\n"
      ],
      "metadata": {
        "id": "aBcK97y23J68"
      },
      "execution_count": 6,
      "outputs": []
    },
    {
      "cell_type": "code",
      "source": [
        "# Train a Random Forest model\n",
        "model_rf = RandomForestRegressor(n_estimators=100, random_state=42)\n",
        "model_rf.fit(X_train_scaled, y_train)\n",
        "\n",
        "# Predict on the test set\n",
        "y_pred_rf = model_rf.predict(X_test_scaled)"
      ],
      "metadata": {
        "id": "gsXPpU0W3zxe"
      },
      "execution_count": 7,
      "outputs": []
    },
    {
      "cell_type": "code",
      "source": [
        "from sklearn.metrics import precision_score\n",
        "\n",
        "# Calculate precision score using 'micro' average\n",
        "precision_rf_micro = precision_score(y_test, np.round(y_pred_rf), average='micro')\n",
        "print(f'Random Forest Precision (micro): {precision_rf_micro}')\n",
        "\n",
        "# Calculate precision score using 'macro' average\n",
        "precision_rf_macro = precision_score(y_test, np.round(y_pred_rf), average='macro')\n",
        "print(f'Random Forest Precision (macro): {precision_rf_macro}')\n",
        "\n",
        "# Calculate precision score using 'weighted' average\n",
        "precision_rf_weighted = precision_score(y_test, np.round(y_pred_rf), average='weighted')\n",
        "print(f'Random Forest Precision (weighted): {precision_rf_weighted}')\n",
        "\n",
        "# Calculate precision score without averaging\n",
        "precision_rf_none = precision_score(y_test, np.round(y_pred_rf), average=None)\n",
        "print(f'Random Forest Precision (none): {precision_rf_none}')"
      ],
      "metadata": {
        "colab": {
          "base_uri": "https://localhost:8080/"
        },
        "id": "46wPxpEOXWFu",
        "outputId": "5070e24f-17ce-4bde-97d1-8146fbdb469b"
      },
      "execution_count": 9,
      "outputs": [
        {
          "output_type": "stream",
          "name": "stdout",
          "text": [
            "Random Forest Precision (micro): 0.9999581344720757\n",
            "Random Forest Precision (macro): 0.9997326173275318\n",
            "Random Forest Precision (weighted): 0.9999581356842394\n",
            "Random Forest Precision (none): [1.         0.9999485  0.99996772 0.99874687 1.        ]\n"
          ]
        }
      ]
    },
    {
      "cell_type": "code",
      "source": [
        "from sklearn.metrics import mean_squared_error, r2_score\n",
        "\n",
        "# Calculate mean squared error\n",
        "mse_rf = mean_squared_error(y_test, y_pred_rf)\n",
        "print(f'Random Forest Mean Squared Error: {mse_rf}')\n",
        "\n",
        "# Calculate R-squared score\n",
        "r2_rf = r2_score(y_test, y_pred_rf)\n",
        "print(f'Random Forest R-squared Score: {r2_rf}')"
      ],
      "metadata": {
        "colab": {
          "base_uri": "https://localhost:8080/"
        },
        "id": "F_wXNQw2YGlZ",
        "outputId": "97dc6938-525b-4ada-ab35-28c947f2ff11"
      },
      "execution_count": 15,
      "outputs": [
        {
          "output_type": "stream",
          "name": "stdout",
          "text": [
            "Random Forest Mean Squared Error: 3.934871193725753e-05\n",
            "Random Forest R-squared Score: 0.9999348399147597\n"
          ]
        }
      ]
    },
    {
      "cell_type": "code",
      "source": [
        "from sklearn.ensemble import RandomForestClassifier\n",
        "\n",
        "# Train the Random Forest Classifier\n",
        "model_rf = RandomForestClassifier(n_estimators=100, random_state=42)\n",
        "model_rf.fit(X_train, y_train)\n"
      ],
      "metadata": {
        "colab": {
          "base_uri": "https://localhost:8080/",
          "height": 75
        },
        "id": "xADx-j74a-ND",
        "outputId": "4b4145f1-3ac0-467f-b5e9-508cbb6da49f"
      },
      "execution_count": 19,
      "outputs": [
        {
          "output_type": "execute_result",
          "data": {
            "text/plain": [
              "RandomForestClassifier(random_state=42)"
            ],
            "text/html": [
              "<style>#sk-container-id-1 {color: black;background-color: white;}#sk-container-id-1 pre{padding: 0;}#sk-container-id-1 div.sk-toggleable {background-color: white;}#sk-container-id-1 label.sk-toggleable__label {cursor: pointer;display: block;width: 100%;margin-bottom: 0;padding: 0.3em;box-sizing: border-box;text-align: center;}#sk-container-id-1 label.sk-toggleable__label-arrow:before {content: \"▸\";float: left;margin-right: 0.25em;color: #696969;}#sk-container-id-1 label.sk-toggleable__label-arrow:hover:before {color: black;}#sk-container-id-1 div.sk-estimator:hover label.sk-toggleable__label-arrow:before {color: black;}#sk-container-id-1 div.sk-toggleable__content {max-height: 0;max-width: 0;overflow: hidden;text-align: left;background-color: #f0f8ff;}#sk-container-id-1 div.sk-toggleable__content pre {margin: 0.2em;color: black;border-radius: 0.25em;background-color: #f0f8ff;}#sk-container-id-1 input.sk-toggleable__control:checked~div.sk-toggleable__content {max-height: 200px;max-width: 100%;overflow: auto;}#sk-container-id-1 input.sk-toggleable__control:checked~label.sk-toggleable__label-arrow:before {content: \"▾\";}#sk-container-id-1 div.sk-estimator input.sk-toggleable__control:checked~label.sk-toggleable__label {background-color: #d4ebff;}#sk-container-id-1 div.sk-label input.sk-toggleable__control:checked~label.sk-toggleable__label {background-color: #d4ebff;}#sk-container-id-1 input.sk-hidden--visually {border: 0;clip: rect(1px 1px 1px 1px);clip: rect(1px, 1px, 1px, 1px);height: 1px;margin: -1px;overflow: hidden;padding: 0;position: absolute;width: 1px;}#sk-container-id-1 div.sk-estimator {font-family: monospace;background-color: #f0f8ff;border: 1px dotted black;border-radius: 0.25em;box-sizing: border-box;margin-bottom: 0.5em;}#sk-container-id-1 div.sk-estimator:hover {background-color: #d4ebff;}#sk-container-id-1 div.sk-parallel-item::after {content: \"\";width: 100%;border-bottom: 1px solid gray;flex-grow: 1;}#sk-container-id-1 div.sk-label:hover label.sk-toggleable__label {background-color: #d4ebff;}#sk-container-id-1 div.sk-serial::before {content: \"\";position: absolute;border-left: 1px solid gray;box-sizing: border-box;top: 0;bottom: 0;left: 50%;z-index: 0;}#sk-container-id-1 div.sk-serial {display: flex;flex-direction: column;align-items: center;background-color: white;padding-right: 0.2em;padding-left: 0.2em;position: relative;}#sk-container-id-1 div.sk-item {position: relative;z-index: 1;}#sk-container-id-1 div.sk-parallel {display: flex;align-items: stretch;justify-content: center;background-color: white;position: relative;}#sk-container-id-1 div.sk-item::before, #sk-container-id-1 div.sk-parallel-item::before {content: \"\";position: absolute;border-left: 1px solid gray;box-sizing: border-box;top: 0;bottom: 0;left: 50%;z-index: -1;}#sk-container-id-1 div.sk-parallel-item {display: flex;flex-direction: column;z-index: 1;position: relative;background-color: white;}#sk-container-id-1 div.sk-parallel-item:first-child::after {align-self: flex-end;width: 50%;}#sk-container-id-1 div.sk-parallel-item:last-child::after {align-self: flex-start;width: 50%;}#sk-container-id-1 div.sk-parallel-item:only-child::after {width: 0;}#sk-container-id-1 div.sk-dashed-wrapped {border: 1px dashed gray;margin: 0 0.4em 0.5em 0.4em;box-sizing: border-box;padding-bottom: 0.4em;background-color: white;}#sk-container-id-1 div.sk-label label {font-family: monospace;font-weight: bold;display: inline-block;line-height: 1.2em;}#sk-container-id-1 div.sk-label-container {text-align: center;}#sk-container-id-1 div.sk-container {/* jupyter's `normalize.less` sets `[hidden] { display: none; }` but bootstrap.min.css set `[hidden] { display: none !important; }` so we also need the `!important` here to be able to override the default hidden behavior on the sphinx rendered scikit-learn.org. See: https://github.com/scikit-learn/scikit-learn/issues/21755 */display: inline-block !important;position: relative;}#sk-container-id-1 div.sk-text-repr-fallback {display: none;}</style><div id=\"sk-container-id-1\" class=\"sk-top-container\"><div class=\"sk-text-repr-fallback\"><pre>RandomForestClassifier(random_state=42)</pre><b>In a Jupyter environment, please rerun this cell to show the HTML representation or trust the notebook. <br />On GitHub, the HTML representation is unable to render, please try loading this page with nbviewer.org.</b></div><div class=\"sk-container\" hidden><div class=\"sk-item\"><div class=\"sk-estimator sk-toggleable\"><input class=\"sk-toggleable__control sk-hidden--visually\" id=\"sk-estimator-id-1\" type=\"checkbox\" checked><label for=\"sk-estimator-id-1\" class=\"sk-toggleable__label sk-toggleable__label-arrow\">RandomForestClassifier</label><div class=\"sk-toggleable__content\"><pre>RandomForestClassifier(random_state=42)</pre></div></div></div></div></div>"
            ]
          },
          "metadata": {},
          "execution_count": 19
        }
      ]
    },
    {
      "cell_type": "code",
      "source": [
        "\n",
        "# Mean Squared Error\n",
        "mse_rf = mean_squared_error(y_test, y_pred_rf)\n",
        "print(f'Random Forest Mean Squared Error: {mse_rf}')\n",
        "\n",
        "# Accuracy\n",
        "accuracy_rf = accuracy_score(y_test, np.round(y_pred_rf))\n",
        "print(f'Random Forest Accuracy: {accuracy_rf}')\n",
        "\n",
        "\n",
        "# Confusion Matrix\n",
        "conf_matrix_rf = confusion_matrix(y_test, np.round(y_pred_rf))\n",
        "print(f'Random Forest Confusion Matrix:\\n{conf_matrix_rf}')\n",
        "\n",
        "# Convert the target column to binary\n",
        "df['% Silica Concentrate'] = (df['% Silica Concentrate'] > 50).astype(int)\n",
        "\n",
        "# Split the data into train and test sets\n",
        "X = df[feature_cols]\n",
        "y = df['% Silica Concentrate']\n",
        "\n",
        "\n",
        "# Predict on the test set\n",
        "y_pred_rf = model_rf.predict(X_test)\n",
        "\n",
        "\n",
        "from sklearn.metrics import classification_report\n",
        "\n",
        "y_pred_rf = model_rf.predict(X_test)\n",
        "report = classification_report(y_test, y_pred_rf)\n",
        "print(report)\n",
        "\n"
      ],
      "metadata": {
        "colab": {
          "base_uri": "https://localhost:8080/"
        },
        "id": "mKgfnv3I4ZM3",
        "outputId": "41aac219-837a-4881-bbe2-b45cd68b963b"
      },
      "execution_count": 23,
      "outputs": [
        {
          "output_type": "stream",
          "name": "stdout",
          "text": [
            "Random Forest Mean Squared Error: 2.7910351949538085e-05\n",
            "Random Forest Accuracy: 0.9999720896480505\n",
            "Random Forest Confusion Matrix:\n",
            "[[31500     2     0     0     0]\n",
            " [    0 77665     0     0     0]\n",
            " [    0     2 30978     0     0]\n",
            " [    0     0     0   798     0]\n",
            " [    0     0     0     0  2371]]\n",
            "              precision    recall  f1-score   support\n",
            "\n",
            "         1.0       1.00      1.00      1.00     31502\n",
            "         2.0       1.00      1.00      1.00     77665\n",
            "         3.0       1.00      1.00      1.00     30980\n",
            "         4.0       1.00      1.00      1.00       798\n",
            "         5.0       1.00      1.00      1.00      2371\n",
            "\n",
            "    accuracy                           1.00    143316\n",
            "   macro avg       1.00      1.00      1.00    143316\n",
            "weighted avg       1.00      1.00      1.00    143316\n",
            "\n"
          ]
        }
      ]
    }
  ]
}